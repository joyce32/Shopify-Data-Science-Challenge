{
  "nbformat": 4,
  "nbformat_minor": 0,
  "metadata": {
    "colab": {
      "name": "Winter 2021 Shopify Data Science Intern Challenge.ipynb",
      "provenance": [],
      "collapsed_sections": []
    },
    "kernelspec": {
      "name": "python3",
      "display_name": "Python 3"
    }
  },
  "cells": [
    {
      "cell_type": "markdown",
      "metadata": {
        "id": "2oClTX1M691u",
        "colab_type": "text"
      },
      "source": [
        "# Question 1: Shoe store\n",
        "\n",
        "\n",
        "\n",
        "---\n",
        "\n",
        "\n",
        "Answers:\n",
        "\n",
        "\n",
        "\n",
        "1.   The calculation of average order value is incorrect, as we are naively calculating an average without considering the spread of the data. There are many extreme values that are skewing the data, and thus increasing the value of the metric we are considering. \n",
        "2.   Instead of looking at average order value, considering the median is a better use of time, as this metric is not influenced by extreme points.\n",
        "3.   The median order value is $284, which is a more reasonable measure than the previously calculated $3,145.13 average order value. \n",
        "\n",
        "\n",
        "\n",
        "\n",
        "\n",
        "\n",
        "Detailed observations can be found within the code.\n"
      ]
    },
    {
      "cell_type": "code",
      "metadata": {
        "id": "DJXK0yU6gR_J",
        "colab_type": "code",
        "colab": {}
      },
      "source": [
        "import pandas as pd\n",
        "import matplotlib.pyplot as plt"
      ],
      "execution_count": 2,
      "outputs": []
    },
    {
      "cell_type": "code",
      "metadata": {
        "id": "nEKUPeMegmJt",
        "colab_type": "code",
        "colab": {}
      },
      "source": [
        "sneaker_shops = pd.read_csv('challenge_dataset.csv')"
      ],
      "execution_count": 3,
      "outputs": []
    },
    {
      "cell_type": "code",
      "metadata": {
        "id": "C283gVQ7g6a_",
        "colab_type": "code",
        "colab": {
          "base_uri": "https://localhost:8080/",
          "height": 669
        },
        "outputId": "18cf28ba-9f21-46d0-9a70-8bb8dadbb077"
      },
      "source": [
        "sneaker_shops.head(20)"
      ],
      "execution_count": 4,
      "outputs": [
        {
          "output_type": "execute_result",
          "data": {
            "text/html": [
              "<div>\n",
              "<style scoped>\n",
              "    .dataframe tbody tr th:only-of-type {\n",
              "        vertical-align: middle;\n",
              "    }\n",
              "\n",
              "    .dataframe tbody tr th {\n",
              "        vertical-align: top;\n",
              "    }\n",
              "\n",
              "    .dataframe thead th {\n",
              "        text-align: right;\n",
              "    }\n",
              "</style>\n",
              "<table border=\"1\" class=\"dataframe\">\n",
              "  <thead>\n",
              "    <tr style=\"text-align: right;\">\n",
              "      <th></th>\n",
              "      <th>order_id</th>\n",
              "      <th>shop_id</th>\n",
              "      <th>user_id</th>\n",
              "      <th>order_amount</th>\n",
              "      <th>total_items</th>\n",
              "      <th>payment_method</th>\n",
              "      <th>created_at</th>\n",
              "    </tr>\n",
              "  </thead>\n",
              "  <tbody>\n",
              "    <tr>\n",
              "      <th>0</th>\n",
              "      <td>1</td>\n",
              "      <td>53</td>\n",
              "      <td>746</td>\n",
              "      <td>224</td>\n",
              "      <td>2</td>\n",
              "      <td>cash</td>\n",
              "      <td>2017-03-13 12:36:56</td>\n",
              "    </tr>\n",
              "    <tr>\n",
              "      <th>1</th>\n",
              "      <td>2</td>\n",
              "      <td>92</td>\n",
              "      <td>925</td>\n",
              "      <td>90</td>\n",
              "      <td>1</td>\n",
              "      <td>cash</td>\n",
              "      <td>2017-03-03 17:38:52</td>\n",
              "    </tr>\n",
              "    <tr>\n",
              "      <th>2</th>\n",
              "      <td>3</td>\n",
              "      <td>44</td>\n",
              "      <td>861</td>\n",
              "      <td>144</td>\n",
              "      <td>1</td>\n",
              "      <td>cash</td>\n",
              "      <td>2017-03-14 4:23:56</td>\n",
              "    </tr>\n",
              "    <tr>\n",
              "      <th>3</th>\n",
              "      <td>4</td>\n",
              "      <td>18</td>\n",
              "      <td>935</td>\n",
              "      <td>156</td>\n",
              "      <td>1</td>\n",
              "      <td>credit_card</td>\n",
              "      <td>2017-03-26 12:43:37</td>\n",
              "    </tr>\n",
              "    <tr>\n",
              "      <th>4</th>\n",
              "      <td>5</td>\n",
              "      <td>18</td>\n",
              "      <td>883</td>\n",
              "      <td>156</td>\n",
              "      <td>1</td>\n",
              "      <td>credit_card</td>\n",
              "      <td>2017-03-01 4:35:11</td>\n",
              "    </tr>\n",
              "    <tr>\n",
              "      <th>5</th>\n",
              "      <td>6</td>\n",
              "      <td>58</td>\n",
              "      <td>882</td>\n",
              "      <td>138</td>\n",
              "      <td>1</td>\n",
              "      <td>credit_card</td>\n",
              "      <td>2017-03-14 15:25:01</td>\n",
              "    </tr>\n",
              "    <tr>\n",
              "      <th>6</th>\n",
              "      <td>7</td>\n",
              "      <td>87</td>\n",
              "      <td>915</td>\n",
              "      <td>149</td>\n",
              "      <td>1</td>\n",
              "      <td>cash</td>\n",
              "      <td>2017-03-01 21:37:57</td>\n",
              "    </tr>\n",
              "    <tr>\n",
              "      <th>7</th>\n",
              "      <td>8</td>\n",
              "      <td>22</td>\n",
              "      <td>761</td>\n",
              "      <td>292</td>\n",
              "      <td>2</td>\n",
              "      <td>cash</td>\n",
              "      <td>2017-03-08 2:05:38</td>\n",
              "    </tr>\n",
              "    <tr>\n",
              "      <th>8</th>\n",
              "      <td>9</td>\n",
              "      <td>64</td>\n",
              "      <td>914</td>\n",
              "      <td>266</td>\n",
              "      <td>2</td>\n",
              "      <td>debit</td>\n",
              "      <td>2017-03-17 20:56:50</td>\n",
              "    </tr>\n",
              "    <tr>\n",
              "      <th>9</th>\n",
              "      <td>10</td>\n",
              "      <td>52</td>\n",
              "      <td>788</td>\n",
              "      <td>146</td>\n",
              "      <td>1</td>\n",
              "      <td>credit_card</td>\n",
              "      <td>2017-03-30 21:08:26</td>\n",
              "    </tr>\n",
              "    <tr>\n",
              "      <th>10</th>\n",
              "      <td>11</td>\n",
              "      <td>66</td>\n",
              "      <td>848</td>\n",
              "      <td>322</td>\n",
              "      <td>2</td>\n",
              "      <td>credit_card</td>\n",
              "      <td>2017-03-26 23:36:40</td>\n",
              "    </tr>\n",
              "    <tr>\n",
              "      <th>11</th>\n",
              "      <td>12</td>\n",
              "      <td>40</td>\n",
              "      <td>983</td>\n",
              "      <td>322</td>\n",
              "      <td>2</td>\n",
              "      <td>debit</td>\n",
              "      <td>2017-03-12 17:58:30</td>\n",
              "    </tr>\n",
              "    <tr>\n",
              "      <th>12</th>\n",
              "      <td>13</td>\n",
              "      <td>54</td>\n",
              "      <td>799</td>\n",
              "      <td>266</td>\n",
              "      <td>2</td>\n",
              "      <td>credit_card</td>\n",
              "      <td>2017-03-16 14:15:34</td>\n",
              "    </tr>\n",
              "    <tr>\n",
              "      <th>13</th>\n",
              "      <td>14</td>\n",
              "      <td>100</td>\n",
              "      <td>709</td>\n",
              "      <td>111</td>\n",
              "      <td>1</td>\n",
              "      <td>cash</td>\n",
              "      <td>2017-03-22 2:39:49</td>\n",
              "    </tr>\n",
              "    <tr>\n",
              "      <th>14</th>\n",
              "      <td>15</td>\n",
              "      <td>87</td>\n",
              "      <td>849</td>\n",
              "      <td>447</td>\n",
              "      <td>3</td>\n",
              "      <td>credit_card</td>\n",
              "      <td>2017-03-10 11:23:18</td>\n",
              "    </tr>\n",
              "    <tr>\n",
              "      <th>15</th>\n",
              "      <td>16</td>\n",
              "      <td>42</td>\n",
              "      <td>607</td>\n",
              "      <td>704000</td>\n",
              "      <td>2000</td>\n",
              "      <td>credit_card</td>\n",
              "      <td>2017-03-07 4:00:00</td>\n",
              "    </tr>\n",
              "    <tr>\n",
              "      <th>16</th>\n",
              "      <td>17</td>\n",
              "      <td>17</td>\n",
              "      <td>731</td>\n",
              "      <td>176</td>\n",
              "      <td>1</td>\n",
              "      <td>cash</td>\n",
              "      <td>2017-03-21 4:23:38</td>\n",
              "    </tr>\n",
              "    <tr>\n",
              "      <th>17</th>\n",
              "      <td>18</td>\n",
              "      <td>28</td>\n",
              "      <td>752</td>\n",
              "      <td>164</td>\n",
              "      <td>1</td>\n",
              "      <td>credit_card</td>\n",
              "      <td>2017-03-21 12:09:07</td>\n",
              "    </tr>\n",
              "    <tr>\n",
              "      <th>18</th>\n",
              "      <td>19</td>\n",
              "      <td>83</td>\n",
              "      <td>761</td>\n",
              "      <td>258</td>\n",
              "      <td>2</td>\n",
              "      <td>cash</td>\n",
              "      <td>2017-03-17 13:18:47</td>\n",
              "    </tr>\n",
              "    <tr>\n",
              "      <th>19</th>\n",
              "      <td>20</td>\n",
              "      <td>63</td>\n",
              "      <td>898</td>\n",
              "      <td>408</td>\n",
              "      <td>3</td>\n",
              "      <td>credit_card</td>\n",
              "      <td>2017-03-29 15:11:52</td>\n",
              "    </tr>\n",
              "  </tbody>\n",
              "</table>\n",
              "</div>"
            ],
            "text/plain": [
              "    order_id  shop_id  user_id  ...  total_items  payment_method           created_at\n",
              "0          1       53      746  ...            2            cash  2017-03-13 12:36:56\n",
              "1          2       92      925  ...            1            cash  2017-03-03 17:38:52\n",
              "2          3       44      861  ...            1            cash   2017-03-14 4:23:56\n",
              "3          4       18      935  ...            1     credit_card  2017-03-26 12:43:37\n",
              "4          5       18      883  ...            1     credit_card   2017-03-01 4:35:11\n",
              "5          6       58      882  ...            1     credit_card  2017-03-14 15:25:01\n",
              "6          7       87      915  ...            1            cash  2017-03-01 21:37:57\n",
              "7          8       22      761  ...            2            cash   2017-03-08 2:05:38\n",
              "8          9       64      914  ...            2           debit  2017-03-17 20:56:50\n",
              "9         10       52      788  ...            1     credit_card  2017-03-30 21:08:26\n",
              "10        11       66      848  ...            2     credit_card  2017-03-26 23:36:40\n",
              "11        12       40      983  ...            2           debit  2017-03-12 17:58:30\n",
              "12        13       54      799  ...            2     credit_card  2017-03-16 14:15:34\n",
              "13        14      100      709  ...            1            cash   2017-03-22 2:39:49\n",
              "14        15       87      849  ...            3     credit_card  2017-03-10 11:23:18\n",
              "15        16       42      607  ...         2000     credit_card   2017-03-07 4:00:00\n",
              "16        17       17      731  ...            1            cash   2017-03-21 4:23:38\n",
              "17        18       28      752  ...            1     credit_card  2017-03-21 12:09:07\n",
              "18        19       83      761  ...            2            cash  2017-03-17 13:18:47\n",
              "19        20       63      898  ...            3     credit_card  2017-03-29 15:11:52\n",
              "\n",
              "[20 rows x 7 columns]"
            ]
          },
          "metadata": {
            "tags": []
          },
          "execution_count": 4
        }
      ]
    },
    {
      "cell_type": "markdown",
      "metadata": {
        "id": "Rl-IWdKf2MpO",
        "colab_type": "text"
      },
      "source": [
        "Naive calculation - We can compute average order value = total revenue / number of orders\n"
      ]
    },
    {
      "cell_type": "code",
      "metadata": {
        "id": "gIkvQw8PhZ1b",
        "colab_type": "code",
        "colab": {
          "base_uri": "https://localhost:8080/",
          "height": 34
        },
        "outputId": "85658994-bc00-40e2-ffba-efb967b93874"
      },
      "source": [
        "total_revenue = sneaker_shops['order_amount'].sum()\n",
        "num_orders = sneaker_shops['order_amount'].count()\n",
        "\n",
        "avg_order_value = total_revenue / num_orders\n",
        "print(avg_order_value)"
      ],
      "execution_count": 5,
      "outputs": [
        {
          "output_type": "stream",
          "text": [
            "3145.128\n"
          ],
          "name": "stdout"
        }
      ]
    },
    {
      "cell_type": "markdown",
      "metadata": {
        "id": "ZSV3-_kd3IW4",
        "colab_type": "text"
      },
      "source": [
        "Our naive calculation gives an average order value of $3145.13, which seems extremely high.\n"
      ]
    },
    {
      "cell_type": "markdown",
      "metadata": {
        "id": "4FFzGriO2sD0",
        "colab_type": "text"
      },
      "source": [
        "Visualizing order_amount per each order_id displays the outliers. "
      ]
    },
    {
      "cell_type": "code",
      "metadata": {
        "id": "oLewEfI3ueNY",
        "colab_type": "code",
        "colab": {
          "base_uri": "https://localhost:8080/",
          "height": 313
        },
        "outputId": "d859aa5d-c7f8-4cfd-ee6c-92cdcaf2e2f2"
      },
      "source": [
        "plt.scatter(x='order_id', y='order_amount', data=sneaker_shops)\n",
        "plt.title('Order amount for each order id')\n",
        "plt.xlabel('order_id')\n",
        "plt.ylabel('order_amount')"
      ],
      "execution_count": 6,
      "outputs": [
        {
          "output_type": "execute_result",
          "data": {
            "text/plain": [
              "Text(0, 0.5, 'order_amount')"
            ]
          },
          "metadata": {
            "tags": []
          },
          "execution_count": 6
        },
        {
          "output_type": "display_data",
          "data": {
            "image/png": "[encoded data removed]",
            "text/plain": [
              "<Figure size 432x288 with 1 Axes>"
            ]
          },
          "metadata": {
            "tags": [],
            "needs_background": "light"
          }
        }
      ]
    },
    {
      "cell_type": "markdown",
      "metadata": {
        "id": "AdsQUgHe3ddl",
        "colab_type": "text"
      },
      "source": [
        "Most orders are under $100,000, with the exception of extreme values, where there are many orders of $700,000."
      ]
    },
    {
      "cell_type": "markdown",
      "metadata": {
        "id": "8S0RGg592vOU",
        "colab_type": "text"
      },
      "source": [
        "We can take a look at descriptive statistics of order_amount."
      ]
    },
    {
      "cell_type": "code",
      "metadata": {
        "id": "womV5Ox4hwg8",
        "colab_type": "code",
        "colab": {
          "base_uri": "https://localhost:8080/",
          "height": 297
        },
        "outputId": "805f07db-abf7-4d0a-ac88-8e68c1805fc2"
      },
      "source": [
        "sneaker_shops[['order_amount']].describe()"
      ],
      "execution_count": 7,
      "outputs": [
        {
          "output_type": "execute_result",
          "data": {
            "text/html": [
              "<div>\n",
              "<style scoped>\n",
              "    .dataframe tbody tr th:only-of-type {\n",
              "        vertical-align: middle;\n",
              "    }\n",
              "\n",
              "    .dataframe tbody tr th {\n",
              "        vertical-align: top;\n",
              "    }\n",
              "\n",
              "    .dataframe thead th {\n",
              "        text-align: right;\n",
              "    }\n",
              "</style>\n",
              "<table border=\"1\" class=\"dataframe\">\n",
              "  <thead>\n",
              "    <tr style=\"text-align: right;\">\n",
              "      <th></th>\n",
              "      <th>order_amount</th>\n",
              "    </tr>\n",
              "  </thead>\n",
              "  <tbody>\n",
              "    <tr>\n",
              "      <th>count</th>\n",
              "      <td>5000.000000</td>\n",
              "    </tr>\n",
              "    <tr>\n",
              "      <th>mean</th>\n",
              "      <td>3145.128000</td>\n",
              "    </tr>\n",
              "    <tr>\n",
              "      <th>std</th>\n",
              "      <td>41282.539349</td>\n",
              "    </tr>\n",
              "    <tr>\n",
              "      <th>min</th>\n",
              "      <td>90.000000</td>\n",
              "    </tr>\n",
              "    <tr>\n",
              "      <th>25%</th>\n",
              "      <td>163.000000</td>\n",
              "    </tr>\n",
              "    <tr>\n",
              "      <th>50%</th>\n",
              "      <td>284.000000</td>\n",
              "    </tr>\n",
              "    <tr>\n",
              "      <th>75%</th>\n",
              "      <td>390.000000</td>\n",
              "    </tr>\n",
              "    <tr>\n",
              "      <th>max</th>\n",
              "      <td>704000.000000</td>\n",
              "    </tr>\n",
              "  </tbody>\n",
              "</table>\n",
              "</div>"
            ],
            "text/plain": [
              "        order_amount\n",
              "count    5000.000000\n",
              "mean     3145.128000\n",
              "std     41282.539349\n",
              "min        90.000000\n",
              "25%       163.000000\n",
              "50%       284.000000\n",
              "75%       390.000000\n",
              "max    704000.000000"
            ]
          },
          "metadata": {
            "tags": []
          },
          "execution_count": 7
        }
      ]
    },
    {
      "cell_type": "markdown",
      "metadata": {
        "id": "3AjqNp0f32YF",
        "colab_type": "text"
      },
      "source": [
        "Once again, the mean order value is $3,145.13. The extremely large standard deviation of $41,282.54 indicates there is a large spread of values among the data. Another indication that the average order value metric is not an effective calculation for this data is the max order amount of $704,000. This seems like an extreme value. We can look into this further. "
      ]
    },
    {
      "cell_type": "code",
      "metadata": {
        "id": "4QLXZNuGkmHp",
        "colab_type": "code",
        "colab": {
          "base_uri": "https://localhost:8080/",
          "height": 297
        },
        "outputId": "b2bf21e4-e540-478d-804e-452a5424173d"
      },
      "source": [
        "sneaker_shops[['order_amount','total_items']].describe()"
      ],
      "execution_count": 7,
      "outputs": [
        {
          "output_type": "execute_result",
          "data": {
            "text/html": [
              "<div>\n",
              "<style scoped>\n",
              "    .dataframe tbody tr th:only-of-type {\n",
              "        vertical-align: middle;\n",
              "    }\n",
              "\n",
              "    .dataframe tbody tr th {\n",
              "        vertical-align: top;\n",
              "    }\n",
              "\n",
              "    .dataframe thead th {\n",
              "        text-align: right;\n",
              "    }\n",
              "</style>\n",
              "<table border=\"1\" class=\"dataframe\">\n",
              "  <thead>\n",
              "    <tr style=\"text-align: right;\">\n",
              "      <th></th>\n",
              "      <th>order_amount</th>\n",
              "      <th>total_items</th>\n",
              "    </tr>\n",
              "  </thead>\n",
              "  <tbody>\n",
              "    <tr>\n",
              "      <th>count</th>\n",
              "      <td>5000.000000</td>\n",
              "      <td>5000.00000</td>\n",
              "    </tr>\n",
              "    <tr>\n",
              "      <th>mean</th>\n",
              "      <td>3145.128000</td>\n",
              "      <td>8.78720</td>\n",
              "    </tr>\n",
              "    <tr>\n",
              "      <th>std</th>\n",
              "      <td>41282.539349</td>\n",
              "      <td>116.32032</td>\n",
              "    </tr>\n",
              "    <tr>\n",
              "      <th>min</th>\n",
              "      <td>90.000000</td>\n",
              "      <td>1.00000</td>\n",
              "    </tr>\n",
              "    <tr>\n",
              "      <th>25%</th>\n",
              "      <td>163.000000</td>\n",
              "      <td>1.00000</td>\n",
              "    </tr>\n",
              "    <tr>\n",
              "      <th>50%</th>\n",
              "      <td>284.000000</td>\n",
              "      <td>2.00000</td>\n",
              "    </tr>\n",
              "    <tr>\n",
              "      <th>75%</th>\n",
              "      <td>390.000000</td>\n",
              "      <td>3.00000</td>\n",
              "    </tr>\n",
              "    <tr>\n",
              "      <th>max</th>\n",
              "      <td>704000.000000</td>\n",
              "      <td>2000.00000</td>\n",
              "    </tr>\n",
              "  </tbody>\n",
              "</table>\n",
              "</div>"
            ],
            "text/plain": [
              "        order_amount  total_items\n",
              "count    5000.000000   5000.00000\n",
              "mean     3145.128000      8.78720\n",
              "std     41282.539349    116.32032\n",
              "min        90.000000      1.00000\n",
              "25%       163.000000      1.00000\n",
              "50%       284.000000      2.00000\n",
              "75%       390.000000      3.00000\n",
              "max    704000.000000   2000.00000"
            ]
          },
          "metadata": {
            "tags": []
          },
          "execution_count": 7
        }
      ]
    },
    {
      "cell_type": "markdown",
      "metadata": {
        "id": "tce0ITOR41NE",
        "colab_type": "text"
      },
      "source": [
        "Looking at the statistics of order amount and total items ordered, we see that a max of 2000 items were ordered in one order. This skews the data a lot, since there are many orders in which a large number of shoes were bought, leading to a larger order amount."
      ]
    },
    {
      "cell_type": "code",
      "metadata": {
        "id": "GRfs-dmml5Ic",
        "colab_type": "code",
        "colab": {
          "base_uri": "https://localhost:8080/",
          "height": 238
        },
        "outputId": "eb86474b-fee2-4dab-dc62-7ab25ea64d25"
      },
      "source": [
        "sneaker_shops.groupby('order_amount').size()"
      ],
      "execution_count": 16,
      "outputs": [
        {
          "output_type": "execute_result",
          "data": {
            "text/plain": [
              "order_amount\n",
              "90        18\n",
              "94        25\n",
              "101       15\n",
              "111       16\n",
              "112       48\n",
              "          ..\n",
              "51450     16\n",
              "77175      9\n",
              "102900     1\n",
              "154350     1\n",
              "704000    17\n",
              "Length: 258, dtype: int64"
            ]
          },
          "metadata": {
            "tags": []
          },
          "execution_count": 16
        }
      ]
    },
    {
      "cell_type": "markdown",
      "metadata": {
        "id": "kHGvbQTM5ECw",
        "colab_type": "text"
      },
      "source": [
        "The order amount varies from anywhere between $90 to $704,000 for a single order. Grouping by total number of items also gives more information."
      ]
    },
    {
      "cell_type": "code",
      "metadata": {
        "id": "vr49pFtJpmMy",
        "colab_type": "code",
        "colab": {
          "base_uri": "https://localhost:8080/",
          "height": 187
        },
        "outputId": "fffcf280-9fce-40b0-ef25-87996f545c0d"
      },
      "source": [
        "sneaker_shops.groupby('total_items').size()"
      ],
      "execution_count": 9,
      "outputs": [
        {
          "output_type": "execute_result",
          "data": {
            "text/plain": [
              "total_items\n",
              "1       1830\n",
              "2       1832\n",
              "3        941\n",
              "4        293\n",
              "5         77\n",
              "6          9\n",
              "8          1\n",
              "2000      17\n",
              "dtype: int64"
            ]
          },
          "metadata": {
            "tags": []
          },
          "execution_count": 9
        }
      ]
    },
    {
      "cell_type": "markdown",
      "metadata": {
        "id": "ujS8dUn65Uzz",
        "colab_type": "text"
      },
      "source": [
        "Most orders contain 5 or fewer items, with a few containing 6 and 8 items. However, there are 17 orders which contain 2000 sneakers. This extreme outlier is negatively affecting the average order value by increasing its value.\n",
        "\n",
        "Next, grouping by user_id, shop_id, and order_amount points out another odd observation. "
      ]
    },
    {
      "cell_type": "code",
      "metadata": {
        "id": "FIxizIDsmi1V",
        "colab_type": "code",
        "colab": {
          "base_uri": "https://localhost:8080/",
          "height": 238
        },
        "outputId": "0fda3412-8671-49fc-b156-cca18d9dc12f"
      },
      "source": [
        "sneaker_shops.groupby(['user_id', 'shop_id', 'order_amount']).size().sort_values"
      ],
      "execution_count": 10,
      "outputs": [
        {
          "output_type": "execute_result",
          "data": {
            "text/plain": [
              "<bound method Series.sort_values of user_id  shop_id  order_amount\n",
              "607      42       704000          17\n",
              "700      2        188              1\n",
              "         4        384              1\n",
              "         11       184              1\n",
              "         34       122              1\n",
              "                                  ..\n",
              "999      87       298              2\n",
              "         88       176              1\n",
              "         90       534              1\n",
              "         98       133              1\n",
              "                  266              1\n",
              "Length: 4848, dtype: int64>"
            ]
          },
          "metadata": {
            "tags": []
          },
          "execution_count": 10
        }
      ]
    },
    {
      "cell_type": "markdown",
      "metadata": {
        "id": "7sjsBso_6LyR",
        "colab_type": "text"
      },
      "source": [
        "The user with user_id 607 and shop_id 42 made 17 orders, totalling an order amount of $704,000, a possible error. The extreme orders belonging to user 607 is throwing off the average order value, so we must use a different statistic for a more accurate measure."
      ]
    },
    {
      "cell_type": "code",
      "metadata": {
        "id": "diJEYf2guAIY",
        "colab_type": "code",
        "colab": {
          "base_uri": "https://localhost:8080/",
          "height": 170
        },
        "outputId": "b1a8badd-5290-46e2-993e-0802e58aafb5"
      },
      "source": [
        "sneaker_shops.order_amount.describe()"
      ],
      "execution_count": 8,
      "outputs": [
        {
          "output_type": "execute_result",
          "data": {
            "text/plain": [
              "count      5000.000000\n",
              "mean       3145.128000\n",
              "std       41282.539349\n",
              "min          90.000000\n",
              "25%         163.000000\n",
              "50%         284.000000\n",
              "75%         390.000000\n",
              "max      704000.000000\n",
              "Name: order_amount, dtype: float64"
            ]
          },
          "metadata": {
            "tags": []
          },
          "execution_count": 8
        }
      ]
    },
    {
      "cell_type": "markdown",
      "metadata": {
        "id": "8au38cdx6X2u",
        "colab_type": "text"
      },
      "source": [
        "Returning to the descriptive statistics, we see that the median order amount is $284."
      ]
    },
    {
      "cell_type": "code",
      "metadata": {
        "id": "qlotjsP7wQuj",
        "colab_type": "code",
        "colab": {
          "base_uri": "https://localhost:8080/",
          "height": 419
        },
        "outputId": "f0c08b17-e411-46be-a1b4-07b23c92ce43"
      },
      "source": [
        "sneaker_shops.groupby(['total_items', 'order_amount']).size().reset_index(name='count')"
      ],
      "execution_count": 12,
      "outputs": [
        {
          "output_type": "execute_result",
          "data": {
            "text/html": [
              "<div>\n",
              "<style scoped>\n",
              "    .dataframe tbody tr th:only-of-type {\n",
              "        vertical-align: middle;\n",
              "    }\n",
              "\n",
              "    .dataframe tbody tr th {\n",
              "        vertical-align: top;\n",
              "    }\n",
              "\n",
              "    .dataframe thead th {\n",
              "        text-align: right;\n",
              "    }\n",
              "</style>\n",
              "<table border=\"1\" class=\"dataframe\">\n",
              "  <thead>\n",
              "    <tr style=\"text-align: right;\">\n",
              "      <th></th>\n",
              "      <th>total_items</th>\n",
              "      <th>order_amount</th>\n",
              "      <th>count</th>\n",
              "    </tr>\n",
              "  </thead>\n",
              "  <tbody>\n",
              "    <tr>\n",
              "      <th>0</th>\n",
              "      <td>1</td>\n",
              "      <td>90</td>\n",
              "      <td>18</td>\n",
              "    </tr>\n",
              "    <tr>\n",
              "      <th>1</th>\n",
              "      <td>1</td>\n",
              "      <td>94</td>\n",
              "      <td>25</td>\n",
              "    </tr>\n",
              "    <tr>\n",
              "      <th>2</th>\n",
              "      <td>1</td>\n",
              "      <td>101</td>\n",
              "      <td>15</td>\n",
              "    </tr>\n",
              "    <tr>\n",
              "      <th>3</th>\n",
              "      <td>1</td>\n",
              "      <td>111</td>\n",
              "      <td>16</td>\n",
              "    </tr>\n",
              "    <tr>\n",
              "      <th>4</th>\n",
              "      <td>1</td>\n",
              "      <td>112</td>\n",
              "      <td>48</td>\n",
              "    </tr>\n",
              "    <tr>\n",
              "      <th>...</th>\n",
              "      <td>...</td>\n",
              "      <td>...</td>\n",
              "      <td>...</td>\n",
              "    </tr>\n",
              "    <tr>\n",
              "      <th>271</th>\n",
              "      <td>6</td>\n",
              "      <td>960</td>\n",
              "      <td>2</td>\n",
              "    </tr>\n",
              "    <tr>\n",
              "      <th>272</th>\n",
              "      <td>6</td>\n",
              "      <td>1086</td>\n",
              "      <td>1</td>\n",
              "    </tr>\n",
              "    <tr>\n",
              "      <th>273</th>\n",
              "      <td>6</td>\n",
              "      <td>154350</td>\n",
              "      <td>1</td>\n",
              "    </tr>\n",
              "    <tr>\n",
              "      <th>274</th>\n",
              "      <td>8</td>\n",
              "      <td>1064</td>\n",
              "      <td>1</td>\n",
              "    </tr>\n",
              "    <tr>\n",
              "      <th>275</th>\n",
              "      <td>2000</td>\n",
              "      <td>704000</td>\n",
              "      <td>17</td>\n",
              "    </tr>\n",
              "  </tbody>\n",
              "</table>\n",
              "<p>276 rows × 3 columns</p>\n",
              "</div>"
            ],
            "text/plain": [
              "     total_items  order_amount  count\n",
              "0              1            90     18\n",
              "1              1            94     25\n",
              "2              1           101     15\n",
              "3              1           111     16\n",
              "4              1           112     48\n",
              "..           ...           ...    ...\n",
              "271            6           960      2\n",
              "272            6          1086      1\n",
              "273            6        154350      1\n",
              "274            8          1064      1\n",
              "275         2000        704000     17\n",
              "\n",
              "[276 rows x 3 columns]"
            ]
          },
          "metadata": {
            "tags": []
          },
          "execution_count": 12
        }
      ]
    },
    {
      "cell_type": "markdown",
      "metadata": {
        "id": "dwUzsUyc6gu0",
        "colab_type": "text"
      },
      "source": [
        "Given that most orders contain 8 or fewer items (excluding the extremes), the median value of $284 is a good metric that is not affected by extreme values. "
      ]
    },
    {
      "cell_type": "markdown",
      "metadata": {
        "id": "Uj5IegM382tR",
        "colab_type": "text"
      },
      "source": [
        "# Question 2\n",
        "\n",
        "\n",
        "---\n",
        "\n",
        "\n",
        "1.   SELECT COUNT(1) \\\n",
        "     FROM Shippers s, Orders o \\\n",
        "     WHERE s.ShipperID = o.ShipperID\\\n",
        "     AND ShipperName = 'Speedy Express';\n",
        "\n",
        "     54 orders were shipped by Speedy Express in total. \n",
        "\n",
        "2.   SELECT e.LastName, COUNT(e.EmployeeID) as num_orders \\\n",
        "     FROM Employees e \\\n",
        "     INNER JOIN Orders o ON e.EmployeeID = o.EmployeeID \\\n",
        "     GROUP BY e.LastName \\\n",
        "     ORDER BY COUNT(e.EmployeeID) DESC\n",
        "     LIMIT 1; \n",
        "\n",
        "     The last name of the employee with the most orders is Peacock.\n",
        "\n",
        "3.   SELECT p.ProductName, SUM(od.Quantity) as total \\\n",
        "     FROM OrderDetails od, Products p, Orders o, Customers c \\\n",
        "     WHERE od.ProductID = p.ProductID \\\n",
        "     AND o.OrderID = od.OrderID \\\n",
        "     AND o.CustomerID = c.CustomerID \\\n",
        "     AND c.Country = 'Germany' \\\n",
        "     GROUP BY p.ProductName \\\n",
        "     ORDER BY SUM(od.Quantity) DESC\n",
        "     LIMIT 1;\n",
        "\n",
        "     The product that was ordered the most by customers in Germany was Boston Crab Meat.\n",
        "\n",
        "\n",
        "\n"
      ]
    }
  ]
}
